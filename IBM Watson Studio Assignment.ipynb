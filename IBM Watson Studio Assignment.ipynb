{
    "cells": [
        {
            "metadata": {
                "collapsed": true
            },
            "cell_type": "markdown",
            "source": "# My Jupyter Notebook on IBM Watson Studio"
        },
        {
            "metadata": {},
            "cell_type": "markdown",
            "source": "<b>Delaney Davis</b> <br> Data Scientist\n\n"
        },
        {
            "metadata": {},
            "cell_type": "markdown",
            "source": "<i> I am interested in data science because I truly enjoy data aquisition, data cleaning, statistics and visualization. Data science is an interdisciplinary field that has so much opportunity and potential. I love data visualization and would like to continue working in the field of health sciences to present important scientific findings to the public. </i>"
        },
        {
            "metadata": {},
            "cell_type": "markdown",
            "source": "### My code will calculate the standard deviation of a set of randomly generated numbers."
        },
        {
            "metadata": {},
            "cell_type": "code",
            "source": "import random\nfrom statistics import stdev\n\nsample1=np.random.randn(50)\nf'The Standard Deviation of sample1 is {stdev(sample1)}%'\n\n\n\n\n\n",
            "execution_count": 8,
            "outputs": [
                {
                    "output_type": "execute_result",
                    "execution_count": 8,
                    "data": {
                        "text/plain": "'The Standard Deviation of sample1 is 0.9477313572795057%'"
                    },
                    "metadata": {}
                }
            ]
        },
        {
            "metadata": {},
            "cell_type": "markdown",
            "source": "The Horizontal Rule \n\n---\n\n\n- This\n- Is\n- A\n- List\n\n~~Hello~~\n\n[The Coursera IBM Data Science Certificate](https://www.coursera.org/professional-certificates/ibm-data-science?utm_source=gg&utm_medium=sem&campaignid=1876641588&utm_campaign=10-IBM-Data-Science-US&utm_content=B2C&adgroupid=117357906417&device=c&keyword=&matchtype=&network=g&devicemodel=&adpostion=&creativeid=507196710149&hide_mobile_promo&gclid=CjwKCAiAzp6eBhByEiwA_gGq5CPKv7qM3YvciHwEh2BrunGjpGaFlapcmulCQu6Q03qmBhA8zvRGVRoCj0wQAvD_BwE)"
        }
    ],
    "metadata": {
        "kernelspec": {
            "name": "python3",
            "display_name": "Python 3.10",
            "language": "python"
        },
        "language_info": {
            "name": "python",
            "version": "3.10.6",
            "mimetype": "text/x-python",
            "codemirror_mode": {
                "name": "ipython",
                "version": 3
            },
            "pygments_lexer": "ipython3",
            "nbconvert_exporter": "python",
            "file_extension": ".py"
        }
    },
    "nbformat": 4,
    "nbformat_minor": 1
}